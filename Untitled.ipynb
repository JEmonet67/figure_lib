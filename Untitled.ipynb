{
 "cells": [
  {
   "cell_type": "code",
   "execution_count": 8,
   "id": "a4855c03-3dba-4fe5-b1c2-cc5e104800eb",
   "metadata": {},
   "outputs": [
    {
     "name": "stdout",
     "output_type": "stream",
     "text": [
      "{'France': 1, 'Italie': 2} {2016: 2, 2004: 1}\n"
     ]
    }
   ],
   "source": [
    "L = [(\"Milan\", \"Italie\", 2016), (\"Rome\", \"Italie\", 2004), (\"Toulouse\", \"France\", 2016)]\n",
    "\n",
    "set_ans = set([infos[2] for infos in L])\n",
    "set_pays = set([infos[1] for infos in L])\n",
    "\n",
    "d_pays = {pays:0 for pays in set_pays}\n",
    "d_ans = {an:0 for an in set_ans}\n",
    "\n",
    "for infos in L:\n",
    "    d_pays[infos[1]] += 1\n",
    "    d_ans[infos[2]] += 1\n",
    "        \n",
    "print(d_pays,d_ans)\n",
    "\n",
    "# d_pays =\n",
    "# d_ans = "
   ]
  },
  {
   "cell_type": "code",
   "execution_count": 15,
   "id": "3dcbee2c-a254-4021-94fc-092da41259b8",
   "metadata": {},
   "outputs": [
    {
     "data": {
      "text/plain": [
       "0.4"
      ]
     },
     "execution_count": 15,
     "metadata": {},
     "output_type": "execute_result"
    }
   ],
   "source": [
    "séquence = \"ATCCGGATAT\"\n",
    "\n",
    "count_CG = 0\n",
    "for caract in séquence:\n",
    "    if caract == \"C\" or caract==\"G\":\n",
    "        count_CG += 1\n",
    "\n",
    "count_CG/len(séquence)\n"
   ]
  },
  {
   "cell_type": "code",
   "execution_count": 43,
   "id": "6c5683c7-54d8-4a3c-a4bd-1300dd091029",
   "metadata": {},
   "outputs": [
    {
     "data": {
      "text/plain": [
       "0"
      ]
     },
     "execution_count": 43,
     "metadata": {},
     "output_type": "execute_result"
    }
   ],
   "source": [
    "805000%25"
   ]
  },
  {
   "cell_type": "code",
   "execution_count": 35,
   "id": "2b4c6328-5a6d-4789-934c-6852f15d6865",
   "metadata": {},
   "outputs": [
    {
     "name": "stdout",
     "output_type": "stream",
     "text": [
      "[[], [], [], [], []]\n",
      "[[1], [], [], [], []]\n",
      "[[1, 0], [], [], [], []]\n",
      "[[1, 0, 0], [], [], [], []]\n",
      "[[1, 0, 0, 0], [], [], [], []]\n",
      "[[1, 0, 0, 0, 0], [], [], [], []]\n",
      "[[1, 0, 0, 0, 0], [0], [], [], []]\n",
      "[[1, 0, 0, 0, 0], [0, 1], [], [], []]\n",
      "[[1, 0, 0, 0, 0], [0, 1, 0], [], [], []]\n",
      "[[1, 0, 0, 0, 0], [0, 1, 0, 0], [], [], []]\n",
      "[[1, 0, 0, 0, 0], [0, 1, 0, 0, 0], [], [], []]\n",
      "[[1, 0, 0, 0, 0], [0, 1, 0, 0, 0], [0], [], []]\n",
      "[[1, 0, 0, 0, 0], [0, 1, 0, 0, 0], [0, 0], [], []]\n",
      "[[1, 0, 0, 0, 0], [0, 1, 0, 0, 0], [0, 0, 1], [], []]\n",
      "[[1, 0, 0, 0, 0], [0, 1, 0, 0, 0], [0, 0, 1, 0], [], []]\n",
      "[[1, 0, 0, 0, 0], [0, 1, 0, 0, 0], [0, 0, 1, 0, 0], [], []]\n",
      "[[1, 0, 0, 0, 0], [0, 1, 0, 0, 0], [0, 0, 1, 0, 0], [0], []]\n",
      "[[1, 0, 0, 0, 0], [0, 1, 0, 0, 0], [0, 0, 1, 0, 0], [0, 0], []]\n",
      "[[1, 0, 0, 0, 0], [0, 1, 0, 0, 0], [0, 0, 1, 0, 0], [0, 0, 0], []]\n",
      "[[1, 0, 0, 0, 0], [0, 1, 0, 0, 0], [0, 0, 1, 0, 0], [0, 0, 0, 1], []]\n",
      "[[1, 0, 0, 0, 0], [0, 1, 0, 0, 0], [0, 0, 1, 0, 0], [0, 0, 0, 1, 0], []]\n",
      "[[1, 0, 0, 0, 0], [0, 1, 0, 0, 0], [0, 0, 1, 0, 0], [0, 0, 0, 1, 0], [0]]\n",
      "[[1, 0, 0, 0, 0], [0, 1, 0, 0, 0], [0, 0, 1, 0, 0], [0, 0, 0, 1, 0], [0, 0]]\n",
      "[[1, 0, 0, 0, 0], [0, 1, 0, 0, 0], [0, 0, 1, 0, 0], [0, 0, 0, 1, 0], [0, 0, 0]]\n",
      "[[1, 0, 0, 0, 0], [0, 1, 0, 0, 0], [0, 0, 1, 0, 0], [0, 0, 0, 1, 0], [0, 0, 0, 0]]\n"
     ]
    }
   ],
   "source": [
    "n=5\n",
    "identité = [[]]*n\n",
    "for i in range(n):\n",
    "    for j in range(n):\n",
    "        print(identité)\n",
    "        if i==j:\n",
    "            identité[i] = identité[i] + [1]\n",
    "        else:\n",
    "            identité[i] = identité[i] + [0]"
   ]
  },
  {
   "cell_type": "code",
   "execution_count": 34,
   "id": "371c558e-56a3-4ecf-bea2-7d599c46ff21",
   "metadata": {},
   "outputs": [
    {
     "data": {
      "text/plain": [
       "[[2], [], [], [], []]"
      ]
     },
     "execution_count": 34,
     "metadata": {},
     "output_type": "execute_result"
    }
   ],
   "source": [
    "identité= [[]]*n\n",
    "identité[0] = identité[0] + [2]\n",
    "identité"
   ]
  },
  {
   "cell_type": "code",
   "execution_count": null,
   "id": "3449a1ab-2ad2-4861-990a-658d2a46f7db",
   "metadata": {},
   "outputs": [],
   "source": []
  }
 ],
 "metadata": {
  "kernelspec": {
   "display_name": "Python 3 (ipykernel)",
   "language": "python",
   "name": "python3"
  },
  "language_info": {
   "codemirror_mode": {
    "name": "ipython",
    "version": 3
   },
   "file_extension": ".py",
   "mimetype": "text/x-python",
   "name": "python",
   "nbconvert_exporter": "python",
   "pygments_lexer": "ipython3",
   "version": "3.9.12"
  }
 },
 "nbformat": 4,
 "nbformat_minor": 5
}
